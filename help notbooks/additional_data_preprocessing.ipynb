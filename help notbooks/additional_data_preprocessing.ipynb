{
 "cells": [
  {
   "cell_type": "code",
   "execution_count": 1,
   "metadata": {
    "colab": {},
    "colab_type": "code",
    "id": "_9gGjNtCulfW"
   },
   "outputs": [],
   "source": [
    "%load_ext autoreload\n",
    "%autoreload 2\n",
    "\n",
    "import sys\n",
    "sys.path.append(\"..\")\n",
    "\n",
    "from pathlib import Path\n",
    "import src.additional_data_utils as d\n",
    "import src.uber_utils as u"
   ]
  },
  {
   "cell_type": "code",
   "execution_count": 5,
   "metadata": {
    "colab": {},
    "colab_type": "code",
    "id": "8cS_BOsKuljG"
   },
   "outputs": [],
   "source": [
    "# Train\n",
    "train_path = '../data/train.csv'\n",
    "train_cleaned_path = '../data/train_cleaned.csv'\n",
    "\n",
    "\n",
    "# Injuries, vehicles\n",
    "inj_path = '../data/SANRAL_v3/Injuries2016_2018.csv'\n",
    "veh_path = '../data/SANRAL_v3/Vehicles2016_2018.csv'\n",
    "\n",
    "\n",
    "# Weather\n",
    "weather_68816_path = '../data/weather_processed//68816.01.01.2016.31.03.2019.1.0.0.en.utf8.00000000.csv'\n",
    "weather_fact_path = '../data/weather_processed/FACT.01.01.2016.31.03.2019.1.0.0.en.utf8.00000000.csv'\n",
    "result_weather_path = '../data/weather_processed/weather.csv'\n",
    "\n",
    "\n",
    "# Sanral\n",
    "sanral_v3_path = '../data/SANRAL_v3/Vehicle detection sensor (VDS)'\n",
    "result_hourly_path = '../data/SANRAL_processed/VDS_hourly_all.csv'\n",
    "\n",
    "\n",
    "# Uber\n",
    "shape_path = '../data/road_segments_processed/road_segments_vds_uber.shp'\n",
    "uber_files_unzip_dir = '../data/uber_processed/uber_files_downloaded' # after unzipping uber_files_downloaded.zip\n",
    "routes_path = '../data/uber_processed/routes.json'\n",
    "sid_to_enum_path = '../data/uber_processed/sid_to_enum.json' \n",
    "enum_to_uzone_path = '../data/uber_processed/enum_to_uzone.json'\n",
    "routes_length_path = '../data/uber_processed/routes_length_TEST.json'\n",
    "uzone_times_path = '../data/uber_processed/uber_files_joined.csv'\n",
    "result_segment_ttime_path = '../data/uber_processed/segment_ttime_daily.csv'\n",
    "sid_neigh_path = '../data/uber_processed/sid_neighbors_TEST.json'"
   ]
  },
  {
   "cell_type": "markdown",
   "metadata": {},
   "source": [
    "# Clean train"
   ]
  },
  {
   "cell_type": "code",
   "execution_count": null,
   "metadata": {},
   "outputs": [],
   "source": [
    "d.clean_train(train_path=train_path,\n",
    "              train_cleaned_path=train_cleaned_path,\n",
    "              inj_path=inj_path,\n",
    "              veh_path=veh_path\n",
    "             )"
   ]
  },
  {
   "cell_type": "markdown",
   "metadata": {},
   "source": [
    "# Prepare weather"
   ]
  },
  {
   "cell_type": "code",
   "execution_count": null,
   "metadata": {},
   "outputs": [],
   "source": [
    "d.prepare_weather(weather_68816_path=weather_68816_path,\n",
    "                  weather_fact_path=weather_fact_path,\n",
    "                  result_weather_path=result_weather_path\n",
    "                  )"
   ]
  },
  {
   "cell_type": "markdown",
   "metadata": {},
   "source": [
    "# Prepare SANRAL"
   ]
  },
  {
   "cell_type": "code",
   "execution_count": null,
   "metadata": {},
   "outputs": [],
   "source": [
    "# Note! this step requires a lot of RAM\n",
    "d.prepare_sanral(sanral_v3_path=Path(sanral_v3_path),\n",
    "                 result_hourly_path=Path(result_hourly_path)\n",
    "                 )"
   ]
  },
  {
   "cell_type": "markdown",
   "metadata": {},
   "source": [
    "# Prepare Uber"
   ]
  },
  {
   "cell_type": "code",
   "execution_count": 7,
   "metadata": {},
   "outputs": [],
   "source": [
    "u.gen_segments_length_file(shape_path=shape_path,\n",
    "                           routes_path=routes_path,\n",
    "                           routes_length_path=routes_length_path\n",
    "                           )\n",
    "\n",
    "u.gen_neighbors_from_routes(routes_path=routes_path,\n",
    "                            sid_neigh_path=sid_neigh_path\n",
    "                           )"
   ]
  },
  {
   "cell_type": "code",
   "execution_count": null,
   "metadata": {},
   "outputs": [],
   "source": [
    "u.concat_uber_files(uber_files_dir=Path(uber_files_unzip_dir),\n",
    "                    result_fpath=uzone_times_path\n",
    "                   )"
   ]
  },
  {
   "cell_type": "code",
   "execution_count": 7,
   "metadata": {},
   "outputs": [
    {
     "name": "stderr",
     "output_type": "stream",
     "text": [
      "100%|██████████| 1186/1186 [10:39<00:00,  1.86it/s]\n"
     ]
    }
   ],
   "source": [
    "u.process_uber_data(routes_path=routes_path,\n",
    "                  sid_to_enum_path=sid_to_enum_path,\n",
    "                  enum_to_uzone_path=enum_to_uzone_path,\n",
    "                  routes_length_path=routes_length_path,\n",
    "                  uzone_times_path=uzone_times_path,\n",
    "                  result_segment_ttime_path=result_segment_ttime_path\n",
    "                  )"
   ]
  }
 ],
 "metadata": {
  "colab": {
   "collapsed_sections": [],
   "name": "train_cleansing.ipynb",
   "provenance": []
  },
  "kernelspec": {
   "display_name": "Python 3",
   "language": "python",
   "name": "python3"
  },
  "language_info": {
   "codemirror_mode": {
    "name": "ipython",
    "version": 3
   },
   "file_extension": ".py",
   "mimetype": "text/x-python",
   "name": "python",
   "nbconvert_exporter": "python",
   "pygments_lexer": "ipython3",
   "version": "3.7.3"
  }
 },
 "nbformat": 4,
 "nbformat_minor": 1
}
